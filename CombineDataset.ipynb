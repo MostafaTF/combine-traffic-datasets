{
  "nbformat": 4,
  "nbformat_minor": 0,
  "metadata": {
    "colab": {
      "provenance": [],
      "include_colab_link": true
    },
    "kernelspec": {
      "name": "python3",
      "display_name": "Python 3"
    },
    "language_info": {
      "name": "python"
    }
  },
  "cells": [
    {
      "cell_type": "markdown",
      "metadata": {
        "id": "view-in-github",
        "colab_type": "text"
      },
      "source": [
        "<a href=\"https://colab.research.google.com/github/MostafaTF/combine-traffic-datasets/blob/main/CombineDataset.ipynb\" target=\"_parent\"><img src=\"https://colab.research.google.com/assets/colab-badge.svg\" alt=\"Open In Colab\"/></a>"
      ]
    },
    {
      "cell_type": "code",
      "source": [
        "import pandas as pd\n",
        "from google.colab import drive\n",
        "drive.mount('/content/drive/')\n",
        "\n",
        "# Define paths to datasets in Google Drive\n",
        "unsw_nb15_path = \"/content/drive/My Drive/dataset/UNSW-NB15.csv\"\n",
        "iot_23_path = \"/content/drive/My Drive/dataset/IoT-23.csv\"\n",
        "iotid20_path = \"/content/drive/My Drive/dataset/IoTID20.csv\"\n",
        "\n",
        "# Load datasets\n",
        "iot23_df = pd.read_csv(iot_23_path)\n",
        "iotid20_df = pd.read_csv(iotid20_path)\n",
        "unsw_nb15_df = pd.read_csv(unsw_nb15_path)"
      ],
      "metadata": {
        "id": "6oOgVcatoWDE"
      },
      "execution_count": null,
      "outputs": []
    },
    {
      "cell_type": "code",
      "source": [
        "# Rename columns to common feature names\n",
        "iot23 = iot23_df.rename(columns={\n",
        "    'ts':'Time',\n",
        "    'id.orig_h': 'Src_IP',\n",
        "    'id.orig_p': 'Src_Port',\n",
        "    'id.resp_h': 'Dst_IP',\n",
        "    'id.resp_p': 'Dst_Port',\n",
        "    'proto': 'Protocol',\n",
        "    'duration': 'Flow_Duration',\n",
        "    'orig_pkts': 'Tot_Fwd_Pkts',  # Updated column name\n",
        "    'resp_pkts': 'Tot_Bwd_Pkts',  # Updated column name\n",
        "    'label': 'Alabel'\n",
        "})\n",
        "\n",
        "iotid20 = iotid20_df.rename(columns={\n",
        "    'Timestamp':'Time',\n",
        "    'Src_IP': 'Src_IP',\n",
        "    'Src_Port': 'Src_Port',\n",
        "    'Dst_IP': 'Dst_IP',\n",
        "    'Dst_Port': 'Dst_Port',\n",
        "    'Protocol': 'Protocol',\n",
        "    'Flow_Duration': 'Flow_Duration',\n",
        "    'Tot_Fwd_Pkts': 'Tot_Fwd_Pkts',\n",
        "    'Tot_Bwd_Pkts': 'Tot_Bwd_Pkts',\n",
        "    'Cat': 'Alabel'\n",
        "})\n",
        "\n",
        "unsw_nb15 = unsw_nb15_df.rename(columns={\n",
        "    'Stime': 'Time',\n",
        "    'srcip': 'Src_IP',\n",
        "    'sport': 'Src_Port',\n",
        "    'dstip': 'Dst_IP',\n",
        "    'dsport': 'Dst_Port',\n",
        "    'proto': 'Protocol',\n",
        "    'dur': 'Flow_Duration',\n",
        "    'Spkts': 'Tot_Fwd_Pkts',  # Updated column name\n",
        "    'Dpkts': 'Tot_Bwd_Pkts',  # Updated column name\n",
        "    'attack_cat': 'Alabel'\n",
        "})"
      ],
      "metadata": {
        "id": "HSAsXZuPoe7s"
      },
      "execution_count": null,
      "outputs": []
    },
    {
      "cell_type": "code",
      "source": [
        "import numpy as np\n",
        "unsw_nb15['Alabel'] = unsw_nb15.Alabel.replace(np.nan ,\"Normal\",regex = True)"
      ],
      "metadata": {
        "id": "UrlY0H2gzpvf"
      },
      "execution_count": null,
      "outputs": []
    },
    {
      "cell_type": "code",
      "source": [
        "# Map attack labels to a common format\n",
        "iot23['Alabel'] = iot23['Alabel'].map({\n",
        "    'PartOfAHorizontalPortScan': 'Scan',\n",
        "    'Okiru': 'Mirai',\n",
        "    'Benign': 'Normal',\n",
        "    'DDoS' : 'DoS',\n",
        "    'Normal': 'Normal',\n",
        "})\n",
        "\n",
        "\n",
        "unsw_nb15['Alabel'] = unsw_nb15['Alabel'].map({\n",
        "    'Normal': 'Normal',\n",
        "    'Generic': 'Generic',\n",
        "    'Exploits': 'Exploit',\n",
        "    'DoS': 'DoS'\n",
        "})\n",
        "\n",
        "iot23=iot23.dropna()\n",
        "iotid20=iotid20.dropna()\n",
        "unsw_nb15=unsw_nb15.dropna()"
      ],
      "metadata": {
        "id": "_KLgtFVA7QLY"
      },
      "execution_count": null,
      "outputs": []
    },
    {
      "cell_type": "code",
      "source": [
        "def load_and_preprocess(df, downsample=False, target_size=600000):\n",
        "    # Downsample if specified\n",
        "    if downsample:\n",
        "        df = df.groupby('Alabel', group_keys=False).apply(lambda x: x.sample(frac=min(1, target_size / len(df)), random_state=42))\n",
        "        df = df.reset_index(drop=True)\n",
        "    return df\n",
        "\n",
        "# Load and preprocess datasets\n",
        "unsw_nb15 = load_and_preprocess(unsw_nb15,downsample=True, target_size=600000)\n",
        "iot23 = load_and_preprocess(iot23, downsample=True, target_size=600000)\n",
        "iotid20 = load_and_preprocess(iotid20, downsample=True, target_size=600000)"
      ],
      "metadata": {
        "id": "ubYYwa94xrd1"
      },
      "execution_count": null,
      "outputs": []
    },
    {
      "cell_type": "code",
      "source": [
        "# Convert to datetime\n",
        "def normalize_time(df, time_col):\n",
        "    df[time_col] = pd.to_datetime(df[time_col], errors='coerce')  # تبدیل به datetime\n",
        "    return df\n",
        "iot23 = normalize_time(iot23, 'Time')\n",
        "iotid20 = normalize_time(iotid20, 'Time')\n",
        "unsw_nb15 = normalize_time(unsw_nb15, 'Time')\n",
        "\n",
        "iot23['Domain'] = \"iot23\"\n",
        "iotid20['Domain'] = \"iotid20\"\n",
        "unsw_nb15['Domain'] = \"unsw_nb15\""
      ],
      "metadata": {
        "id": "HUv6Dh4n09BF"
      },
      "execution_count": null,
      "outputs": []
    },
    {
      "cell_type": "code",
      "source": [
        "unsw_nb15.columns"
      ],
      "metadata": {
        "id": "yLYfIh0o8SqI"
      },
      "execution_count": null,
      "outputs": []
    },
    {
      "cell_type": "code",
      "source": [
        "# Select common features\n",
        "common_features = ['Time','Src_IP', 'Src_Port', 'Dst_IP','Dst_Port', 'Protocol', 'Flow_Duration', 'Tot_Fwd_Pkts', 'Tot_Bwd_Pkts', 'Domain', 'Alabel']\n",
        "iot23 = iot23[common_features]\n",
        "iotid20 = iotid20[common_features]\n",
        "unsw_nb15 = unsw_nb15[common_features]\n",
        "\n",
        "# Combine datasets\n",
        "composite_dataset = pd.concat([iot23, iotid20, unsw_nb15], ignore_index=True)\n",
        "\n",
        "# Remove rows with missing values\n",
        "composite_dataset = composite_dataset.dropna()\n",
        "\n",
        "# Save the composite dataset\n",
        "composite_dataset.to_csv('/content/drive/My Drive/dataset/cdataset.csv', index=False)\n",
        "\n",
        "print(\"Composite dataset created and saved as 'cdataset.csv'.\")\n",
        "print(f\"Final dataset size: {len(composite_dataset)} rows\")"
      ],
      "metadata": {
        "id": "RSyarwjy3d_O"
      },
      "execution_count": null,
      "outputs": []
    }
  ]
}